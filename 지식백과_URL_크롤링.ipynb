{
 "cells": [
  {
   "cell_type": "code",
   "execution_count": 1,
   "id": "cee79062",
   "metadata": {},
   "outputs": [],
   "source": [
    "from urllib.request import urlopen\n",
    "import bs4\n",
    "import requests\n",
    "import pandas as pd"
   ]
  },
  {
   "cell_type": "code",
   "execution_count": 46,
   "id": "caf4c2d9",
   "metadata": {},
   "outputs": [
    {
     "name": "stdout",
     "output_type": "stream",
     "text": [
      "/entry.naver?docId=989122&cid=42883&categoryId=44358\n"
     ]
    }
   ],
   "source": [
    "url=\"https://terms.naver.com/list.naver?cid=42883&categoryId=44358&page=1\"\n",
    "html = requests.get(url).content\n",
    "dog_url = bs4.BeautifulSoup(html,'html.parser')\n",
    "info = dog_url.findAll('div',{'class':'info_area'})\n",
    "# print(info[0])\n",
    "a = info[2].find('a')['href']\n",
    "print(a)"
   ]
  },
  {
   "cell_type": "code",
   "execution_count": 19,
   "id": "969e3e7d",
   "metadata": {
    "scrolled": false
   },
   "outputs": [
    {
     "name": "stdout",
     "output_type": "stream",
     "text": [
      "['https://terms.naver.com//entry.naver?docId=989152&cid=42883&categoryId=44358', 'https://terms.naver.com//entry.naver?docId=989109&cid=42883&categoryId=44358', 'https://terms.naver.com//entry.naver?docId=989122&cid=42883&categoryId=44358', 'https://terms.naver.com//entry.naver?docId=989027&cid=42883&categoryId=44358', 'https://terms.naver.com//entry.naver?docId=989138&cid=42883&categoryId=44358', 'https://terms.naver.com//entry.naver?docId=989036&cid=42883&categoryId=44358', 'https://terms.naver.com//entry.naver?docId=989148&cid=42883&categoryId=44358', 'https://terms.naver.com//entry.naver?docId=989089&cid=42883&categoryId=44358', 'https://terms.naver.com//entry.naver?docId=989142&cid=42883&categoryId=44358', 'https://terms.naver.com//entry.naver?docId=989049&cid=42883&categoryId=44358', 'https://terms.naver.com//entry.naver?docId=989073&cid=42883&categoryId=44358', 'https://terms.naver.com//entry.naver?docId=989145&cid=42883&categoryId=44358', 'https://terms.naver.com//entry.naver?docId=989047&cid=42883&categoryId=44358', 'https://terms.naver.com//entry.naver?docId=989081&cid=42883&categoryId=44358', 'https://terms.naver.com//entry.naver?docId=989087&cid=42883&categoryId=44358', 'https://terms.naver.com//entry.naver?docId=989059&cid=42883&categoryId=44358', 'https://terms.naver.com//entry.naver?docId=989039&cid=42883&categoryId=44358', 'https://terms.naver.com//entry.naver?docId=989076&cid=42883&categoryId=44358', 'https://terms.naver.com//entry.naver?docId=989045&cid=42883&categoryId=44358', 'https://terms.naver.com//entry.naver?docId=989133&cid=42883&categoryId=44358', 'https://terms.naver.com//entry.naver?docId=989127&cid=42883&categoryId=44358', 'https://terms.naver.com//entry.naver?docId=989090&cid=42883&categoryId=44358', 'https://terms.naver.com//entry.naver?docId=989041&cid=42883&categoryId=44358', 'https://terms.naver.com//entry.naver?docId=989054&cid=42883&categoryId=44358', 'https://terms.naver.com//entry.naver?docId=989123&cid=42883&categoryId=44358', 'https://terms.naver.com//entry.naver?docId=989093&cid=42883&categoryId=44358', 'https://terms.naver.com//entry.naver?docId=989128&cid=42883&categoryId=44358', 'https://terms.naver.com//entry.naver?docId=989153&cid=42883&categoryId=44358', 'https://terms.naver.com//entry.naver?docId=989037&cid=42883&categoryId=44358', 'https://terms.naver.com//entry.naver?docId=989044&cid=42883&categoryId=44358', 'https://terms.naver.com//entry.naver?docId=989028&cid=42883&categoryId=44358', 'https://terms.naver.com//entry.naver?docId=989120&cid=42883&categoryId=44358', 'https://terms.naver.com//entry.naver?docId=989108&cid=42883&categoryId=44358', 'https://terms.naver.com//entry.naver?docId=989143&cid=42883&categoryId=44358', 'https://terms.naver.com//entry.naver?docId=989030&cid=42883&categoryId=44358', 'https://terms.naver.com//entry.naver?docId=989111&cid=42883&categoryId=44358', 'https://terms.naver.com//entry.naver?docId=989121&cid=42883&categoryId=44358', 'https://terms.naver.com//entry.naver?docId=989072&cid=42883&categoryId=44358', 'https://terms.naver.com//entry.naver?docId=989082&cid=42883&categoryId=44358', 'https://terms.naver.com//entry.naver?docId=989079&cid=42883&categoryId=44358', 'https://terms.naver.com//entry.naver?docId=989134&cid=42883&categoryId=44358', 'https://terms.naver.com//entry.naver?docId=989066&cid=42883&categoryId=44358', 'https://terms.naver.com//entry.naver?docId=989029&cid=42883&categoryId=44358', 'https://terms.naver.com//entry.naver?docId=989088&cid=42883&categoryId=44358', 'https://terms.naver.com//entry.naver?docId=989085&cid=42883&categoryId=44358', 'https://terms.naver.com//entry.naver?docId=989107&cid=42883&categoryId=44358', 'https://terms.naver.com//entry.naver?docId=989149&cid=42883&categoryId=44358', 'https://terms.naver.com//entry.naver?docId=989101&cid=42883&categoryId=44358', 'https://terms.naver.com//entry.naver?docId=989117&cid=42883&categoryId=44358', 'https://terms.naver.com//entry.naver?docId=989067&cid=42883&categoryId=44358', 'https://terms.naver.com//entry.naver?docId=989139&cid=42883&categoryId=44358', 'https://terms.naver.com//entry.naver?docId=989040&cid=42883&categoryId=44358', 'https://terms.naver.com//entry.naver?docId=2401885&cid=42883&categoryId=44358', 'https://terms.naver.com//entry.naver?docId=989048&cid=42883&categoryId=44358', 'https://terms.naver.com//entry.naver?docId=989061&cid=42883&categoryId=44358', 'https://terms.naver.com//entry.naver?docId=989144&cid=42883&categoryId=44358', 'https://terms.naver.com//entry.naver?docId=989146&cid=42883&categoryId=44358', 'https://terms.naver.com//entry.naver?docId=989031&cid=42883&categoryId=44358', 'https://terms.naver.com//entry.naver?docId=989063&cid=42883&categoryId=44358', 'https://terms.naver.com//entry.naver?docId=989050&cid=42883&categoryId=44358', 'https://terms.naver.com//entry.naver?docId=989116&cid=42883&categoryId=44358', 'https://terms.naver.com//entry.naver?docId=989035&cid=42883&categoryId=44358', 'https://terms.naver.com//entry.naver?docId=989124&cid=42883&categoryId=44358', 'https://terms.naver.com//entry.naver?docId=989100&cid=42883&categoryId=44358', 'https://terms.naver.com//entry.naver?docId=989077&cid=42883&categoryId=44358', 'https://terms.naver.com//entry.naver?docId=989062&cid=42883&categoryId=44358', 'https://terms.naver.com//entry.naver?docId=989098&cid=42883&categoryId=44358', 'https://terms.naver.com//entry.naver?docId=989092&cid=42883&categoryId=44358', 'https://terms.naver.com//entry.naver?docId=989053&cid=42883&categoryId=44358', 'https://terms.naver.com//entry.naver?docId=989104&cid=42883&categoryId=44358', 'https://terms.naver.com//entry.naver?docId=989078&cid=42883&categoryId=44358', 'https://terms.naver.com//entry.naver?docId=989060&cid=42883&categoryId=44358', 'https://terms.naver.com//entry.naver?docId=989135&cid=42883&categoryId=44358', 'https://terms.naver.com//entry.naver?docId=989032&cid=42883&categoryId=44358', 'https://terms.naver.com//entry.naver?docId=989043&cid=42883&categoryId=44358', 'https://terms.naver.com//entry.naver?docId=989113&cid=42883&categoryId=44358', 'https://terms.naver.com//entry.naver?docId=989110&cid=42883&categoryId=44358', 'https://terms.naver.com//entry.naver?docId=989033&cid=42883&categoryId=44358', 'https://terms.naver.com//entry.naver?docId=989114&cid=42883&categoryId=44358', 'https://terms.naver.com//entry.naver?docId=989051&cid=42883&categoryId=44358', 'https://terms.naver.com//entry.naver?docId=989042&cid=42883&categoryId=44358', 'https://terms.naver.com//entry.naver?docId=989132&cid=42883&categoryId=44358', 'https://terms.naver.com//entry.naver?docId=989141&cid=42883&categoryId=44358', 'https://terms.naver.com//entry.naver?docId=989147&cid=42883&categoryId=44358', 'https://terms.naver.com//entry.naver?docId=989094&cid=42883&categoryId=44358', 'https://terms.naver.com//entry.naver?docId=989055&cid=42883&categoryId=44358', 'https://terms.naver.com//entry.naver?docId=989095&cid=42883&categoryId=44358', 'https://terms.naver.com//entry.naver?docId=989112&cid=42883&categoryId=44358', 'https://terms.naver.com//entry.naver?docId=989130&cid=42883&categoryId=44358', 'https://terms.naver.com//entry.naver?docId=989046&cid=42883&categoryId=44358', 'https://terms.naver.com//entry.naver?docId=989057&cid=42883&categoryId=44358', 'https://terms.naver.com//entry.naver?docId=989083&cid=42883&categoryId=44358', 'https://terms.naver.com//entry.naver?docId=989118&cid=42883&categoryId=44358', 'https://terms.naver.com//entry.naver?docId=989137&cid=42883&categoryId=44358', 'https://terms.naver.com//entry.naver?docId=2401899&cid=42883&categoryId=44358', 'https://terms.naver.com//entry.naver?docId=989151&cid=42883&categoryId=44358', 'https://terms.naver.com//entry.naver?docId=989105&cid=42883&categoryId=44358', 'https://terms.naver.com//entry.naver?docId=989070&cid=42883&categoryId=44358', 'https://terms.naver.com//entry.naver?docId=989125&cid=42883&categoryId=44358', 'https://terms.naver.com//entry.naver?docId=2401891&cid=42883&categoryId=44358', 'https://terms.naver.com//entry.naver?docId=989150&cid=42883&categoryId=44358', 'https://terms.naver.com//entry.naver?docId=989136&cid=42883&categoryId=44358', 'https://terms.naver.com//entry.naver?docId=989140&cid=42883&categoryId=44358', 'https://terms.naver.com//entry.naver?docId=2401900&cid=42883&categoryId=44358', 'https://terms.naver.com//entry.naver?docId=989074&cid=42883&categoryId=44358', 'https://terms.naver.com//entry.naver?docId=989034&cid=42883&categoryId=44358', 'https://terms.naver.com//entry.naver?docId=989068&cid=42883&categoryId=44358', 'https://terms.naver.com//entry.naver?docId=989131&cid=42883&categoryId=44358', 'https://terms.naver.com//entry.naver?docId=989052&cid=42883&categoryId=44358', 'https://terms.naver.com//entry.naver?docId=989115&cid=42883&categoryId=44358', 'https://terms.naver.com//entry.naver?docId=989086&cid=42883&categoryId=44358', 'https://terms.naver.com//entry.naver?docId=989058&cid=42883&categoryId=44358', 'https://terms.naver.com//entry.naver?docId=2401918&cid=42883&categoryId=44358', 'https://terms.naver.com//entry.naver?docId=989071&cid=42883&categoryId=44358', 'https://terms.naver.com//entry.naver?docId=2401855&cid=42883&categoryId=44358', 'https://terms.naver.com//entry.naver?docId=989129&cid=42883&categoryId=44358', 'https://terms.naver.com//entry.naver?docId=989106&cid=42883&categoryId=44358', 'https://terms.naver.com//entry.naver?docId=2401914&cid=42883&categoryId=44358', 'https://terms.naver.com//entry.naver?docId=989126&cid=42883&categoryId=44358', 'https://terms.naver.com//entry.naver?docId=989065&cid=42883&categoryId=44358', 'https://terms.naver.com//entry.naver?docId=989075&cid=42883&categoryId=44358', 'https://terms.naver.com//entry.naver?docId=989038&cid=42883&categoryId=44358', 'https://terms.naver.com//entry.naver?docId=989091&cid=42883&categoryId=44358', 'https://terms.naver.com//entry.naver?docId=989097&cid=42883&categoryId=44358', 'https://terms.naver.com//entry.naver?docId=989102&cid=42883&categoryId=44358', 'https://terms.naver.com//entry.naver?docId=2401854&cid=42883&categoryId=44358', 'https://terms.naver.com//entry.naver?docId=2401890&cid=42883&categoryId=44358', 'https://terms.naver.com//entry.naver?docId=2401866&cid=42883&categoryId=44358', 'https://terms.naver.com//entry.naver?docId=989099&cid=42883&categoryId=44358', 'https://terms.naver.com//entry.naver?docId=989069&cid=42883&categoryId=44358', 'https://terms.naver.com//entry.naver?docId=2401888&cid=42883&categoryId=44358', 'https://terms.naver.com//entry.naver?docId=989080&cid=42883&categoryId=44358', 'https://terms.naver.com//entry.naver?docId=2401868&cid=42883&categoryId=44358', 'https://terms.naver.com//entry.naver?docId=2401892&cid=42883&categoryId=44358', 'https://terms.naver.com//entry.naver?docId=2401893&cid=42883&categoryId=44358', 'https://terms.naver.com//entry.naver?docId=2401913&cid=42883&categoryId=44358', 'https://terms.naver.com//entry.naver?docId=2401876&cid=42883&categoryId=44358', 'https://terms.naver.com//entry.naver?docId=2401858&cid=42883&categoryId=44358', 'https://terms.naver.com//entry.naver?docId=2401864&cid=42883&categoryId=44358', 'https://terms.naver.com//entry.naver?docId=989056&cid=42883&categoryId=44358', 'https://terms.naver.com//entry.naver?docId=2401922&cid=42883&categoryId=44358', 'https://terms.naver.com//entry.naver?docId=2401883&cid=42883&categoryId=44358', 'https://terms.naver.com//entry.naver?docId=989119&cid=42883&categoryId=44358', 'https://terms.naver.com//entry.naver?docId=2401912&cid=42883&categoryId=44358', 'https://terms.naver.com//entry.naver?docId=2401915&cid=42883&categoryId=44358', 'https://terms.naver.com//entry.naver?docId=2401878&cid=42883&categoryId=44358', 'https://terms.naver.com//entry.naver?docId=2401862&cid=42883&categoryId=44358', 'https://terms.naver.com//entry.naver?docId=2401895&cid=42883&categoryId=44358', 'https://terms.naver.com//entry.naver?docId=2401903&cid=42883&categoryId=44358', 'https://terms.naver.com//entry.naver?docId=2401856&cid=42883&categoryId=44358', 'https://terms.naver.com//entry.naver?docId=2401901&cid=42883&categoryId=44358', 'https://terms.naver.com//entry.naver?docId=2401863&cid=42883&categoryId=44358', 'https://terms.naver.com//entry.naver?docId=989064&cid=42883&categoryId=44358', 'https://terms.naver.com//entry.naver?docId=2401859&cid=42883&categoryId=44358', 'https://terms.naver.com//entry.naver?docId=989103&cid=42883&categoryId=44358', 'https://terms.naver.com//entry.naver?docId=2401874&cid=42883&categoryId=44358', 'https://terms.naver.com//entry.naver?docId=2401911&cid=42883&categoryId=44358', 'https://terms.naver.com//entry.naver?docId=2401894&cid=42883&categoryId=44358', 'https://terms.naver.com//entry.naver?docId=989096&cid=42883&categoryId=44358', 'https://terms.naver.com//entry.naver?docId=2401886&cid=42883&categoryId=44358', 'https://terms.naver.com//entry.naver?docId=2401909&cid=42883&categoryId=44358', 'https://terms.naver.com//entry.naver?docId=2401917&cid=42883&categoryId=44358', 'https://terms.naver.com//entry.naver?docId=2401877&cid=42883&categoryId=44358', 'https://terms.naver.com//entry.naver?docId=2401916&cid=42883&categoryId=44358', 'https://terms.naver.com//entry.naver?docId=2401879&cid=42883&categoryId=44358', 'https://terms.naver.com//entry.naver?docId=2401882&cid=42883&categoryId=44358', 'https://terms.naver.com//entry.naver?docId=2401919&cid=42883&categoryId=44358', 'https://terms.naver.com//entry.naver?docId=2401875&cid=42883&categoryId=44358', 'https://terms.naver.com//entry.naver?docId=2401923&cid=42883&categoryId=44358', 'https://terms.naver.com//entry.naver?docId=2401889&cid=42883&categoryId=44358', 'https://terms.naver.com//entry.naver?docId=2401907&cid=42883&categoryId=44358', 'https://terms.naver.com//entry.naver?docId=2401869&cid=42883&categoryId=44358', 'https://terms.naver.com//entry.naver?docId=2401881&cid=42883&categoryId=44358', 'https://terms.naver.com//entry.naver?docId=2401867&cid=42883&categoryId=44358', 'https://terms.naver.com//entry.naver?docId=2401910&cid=42883&categoryId=44358', 'https://terms.naver.com//entry.naver?docId=2401880&cid=42883&categoryId=44358', 'https://terms.naver.com//entry.naver?docId=2401908&cid=42883&categoryId=44358', 'https://terms.naver.com//entry.naver?docId=2401860&cid=42883&categoryId=44358', 'https://terms.naver.com//entry.naver?docId=2401898&cid=42883&categoryId=44358', 'https://terms.naver.com//entry.naver?docId=989084&cid=42883&categoryId=44358', 'https://terms.naver.com//entry.naver?docId=2401921&cid=42883&categoryId=44358', 'https://terms.naver.com//entry.naver?docId=2401872&cid=42883&categoryId=44358', 'https://terms.naver.com//entry.naver?docId=2401897&cid=42883&categoryId=44358', 'https://terms.naver.com//entry.naver?docId=2401887&cid=42883&categoryId=44358', 'https://terms.naver.com//entry.naver?docId=2401871&cid=42883&categoryId=44358', 'https://terms.naver.com//entry.naver?docId=2401865&cid=42883&categoryId=44358', 'https://terms.naver.com//entry.naver?docId=2401870&cid=42883&categoryId=44358', 'https://terms.naver.com//entry.naver?docId=2401896&cid=42883&categoryId=44358', 'https://terms.naver.com//entry.naver?docId=2401906&cid=42883&categoryId=44358', 'https://terms.naver.com//entry.naver?docId=2401902&cid=42883&categoryId=44358', 'https://terms.naver.com//entry.naver?docId=2401884&cid=42883&categoryId=44358', 'https://terms.naver.com//entry.naver?docId=2401904&cid=42883&categoryId=44358', 'https://terms.naver.com//entry.naver?docId=2401924&cid=42883&categoryId=44358', 'https://terms.naver.com//entry.naver?docId=2401905&cid=42883&categoryId=44358', 'https://terms.naver.com//entry.naver?docId=2401861&cid=42883&categoryId=44358']\n"
     ]
    }
   ],
   "source": [
    "url_base = 'https://terms.naver.com/'\n",
    "url_li=[]\n",
    "for i in range(1,14):\n",
    "        url=\"https://terms.naver.com/list.naver?cid=42883&categoryId=44358&page=\" + str(i)\n",
    "        html = requests.get(url).content\n",
    "        dog_url = bs4.BeautifulSoup(html,'html.parser')\n",
    "        info = dog_url.findAll('div',{'class':'info_area'})\n",
    "        for j in range(0,15):\n",
    "            try:\n",
    "                link = info[j].find('a')['href']\n",
    "                url = url_base+link\n",
    "                url_li.append(url)\n",
    "            except:\n",
    "                print('error')\n",
    "print(url_li)"
   ]
  },
  {
   "cell_type": "code",
   "execution_count": 40,
   "id": "9e73e700",
   "metadata": {
    "scrolled": true
   },
   "outputs": [
    {
     "name": "stdout",
     "output_type": "stream",
     "text": [
      "[<table class=\"tmp_profile_tb\">\n",
      "<colgroup>\n",
      "<col class=\"tmp_col\"/>\n",
      "<col width=\"*\"/>\n",
      "</colgroup>\n",
      "<tbody>\n",
      "<tr>\n",
      "<th scope=\"row\"><span class=\"title\">원산지</span></th>\n",
      "<td>\n",
      "                                        영국\n",
      "\n",
      "                                </td>\n",
      "</tr>\n",
      "<tr>\n",
      "<th scope=\"row\"><span class=\"title\">체고</span></th>\n",
      "<td>\n",
      "                                        25~30.5cm\n",
      "\n",
      "                                </td>\n",
      "</tr>\n",
      "<tr>\n",
      "<th scope=\"row\"><span class=\"title\">체중</span></th>\n",
      "<td>\n",
      "                                        13kg정도\n",
      "\n",
      "                                </td>\n",
      "</tr>\n",
      "<tr>\n",
      "<th scope=\"row\"><span class=\"title\">크기</span></th>\n",
      "<td>\n",
      "                                        중형\n",
      "\n",
      "                                </td>\n",
      "</tr>\n",
      "<tr>\n",
      "<th scope=\"row\"><span class=\"title\">외모</span></th>\n",
      "<td>\n",
      "                                        낮게 위치하며 튼튼하고 단단하고 작게 형성됨\n",
      "\n",
      "                                </td>\n",
      "</tr>\n",
      "<tr>\n",
      "<th scope=\"row\"><span class=\"title\">성격</span></th>\n",
      "<td>\n",
      "                                        자신감 있고 친절하며 수줍거나 사납지 않음\n",
      "\n",
      "                                </td>\n",
      "</tr>\n",
      "<tr>\n",
      "<th scope=\"row\"><span class=\"title\">추천성향</span></th>\n",
      "<td>\n",
      "                                        아파트/단독주택/전원주택, \n",
      "                                        어린이/젊은층/노년층, \n",
      "                                        운동량 많음\n",
      "\n",
      "                                </td>\n",
      "</tr>\n",
      "<tr>\n",
      "<th scope=\"row\"><span class=\"title\">주요유의질병</span></th>\n",
      "<td>\n",
      "<a href=\"/entry.naver?docId=988881&amp;ref=y\" onclick=\"clickcr(this, 'bdk.creference', '', '', event);\">각막염</a>, \n",
      "                                        <a href=\"/entry.naver?docId=988880&amp;ref=y\" onclick=\"clickcr(this, 'bdk.creference', '', '', event);\">결막염</a>, \n",
      "                                        <a href=\"/entry.naver?docId=988904&amp;ref=y\" onclick=\"clickcr(this, 'bdk.creference', '', '', event);\">척추디스크</a>\n",
      "</td>\n",
      "</tr>\n",
      "<tr>\n",
      "<th scope=\"row\"><span class=\"title\">색상</span></th>\n",
      "<td>\n",
      "                                        붉은색 세이블 검은색&amp;황갈색 황갈색 흰반점\n",
      "\n",
      "                                </td>\n",
      "</tr>\n",
      "<tr>\n",
      "<th scope=\"row\"><span class=\"title\">그룹구분</span></th>\n",
      "<td>\n",
      "                                        허딩 (일반적인 의미의 목축견)\n",
      "\n",
      "                                </td>\n",
      "</tr>\n",
      "<tr>\n",
      "<th scope=\"row\"><span class=\"title\">친화성</span></th>\n",
      "<td>\n",
      "                                        보통\n",
      "\n",
      "                                </td>\n",
      "</tr>\n",
      "<tr>\n",
      "<th scope=\"row\"><span class=\"title\">털빠짐</span></th>\n",
      "<td>\n",
      "                                        많음\n",
      "\n",
      "                                </td>\n",
      "</tr>\n",
      "<tr>\n",
      "<th scope=\"row\"><span class=\"title\">집지키기</span></th>\n",
      "<td>\n",
      "                                        보통\n",
      "\n",
      "                                </td>\n",
      "</tr>\n",
      "<tr>\n",
      "<th scope=\"row\"><span class=\"title\">실내외구분</span></th>\n",
      "<td>\n",
      "                                        실내, \n",
      "                                        실외\n",
      "\n",
      "                                </td>\n",
      "</tr>\n",
      "</tbody>\n",
      "</table>]\n"
     ]
    }
   ],
   "source": [
    "url=url_li[1]\n",
    "html = requests.get(url).content\n",
    "dog_info = bs4.BeautifulSoup(html,'html.parser')\n",
    "title = dog_info.find('h2',{'class':'headword'}).text\n",
    "dog_profile = dog_info.findAll('table',{'class':'tmp_profile_tb'})\n",
    "print(dog_profile)"
   ]
  },
  {
   "cell_type": "code",
   "execution_count": 51,
   "id": "fd68224f",
   "metadata": {},
   "outputs": [
    {
     "name": "stdout",
     "output_type": "stream",
     "text": [
      "원산지 영국\n",
      "체고 25~30.5cm\n",
      "체중 13kg정도\n",
      "크기 중형\n",
      "외모 낮게 위치하며 튼튼하고 단단하고 작게 형성됨\n",
      "성격 자신감 있고 친절하며 수줍거나 사납지 않음\n",
      "추천성향 아파트/단독주택/전원주택,  어린이/젊은층/노년층,  운동량 많음\n",
      "주요유의질병각막염,  결막염,  척추디스크색상 붉은색 세이블 검은색&황갈색 황갈색 흰반점\n",
      "그룹구분 허딩 (일반적인 의미의 목축견)\n",
      "친화성 보통\n",
      "털빠짐 많음\n",
      "집지키기 보통\n",
      "실내외구분 실내,  실외\n",
      "\n"
     ]
    }
   ],
   "source": [
    "url=url_li[1]\n",
    "html = requests.get(url).content\n",
    "dog_info = bs4.BeautifulSoup(html,'html.parser')\n",
    "title = dog_info.find('h2',{'class':'headword'}).text\n",
    "dog_profile = dog_info.findAll('table',{'class':'tmp_profile_tb'})[0].text.replace('\\n','').replace('                                        ',' ').replace('                                ','\\n')\n",
    "print(dog_profile)\n"
   ]
  },
  {
   "cell_type": "code",
   "execution_count": null,
   "id": "3d20cfaf",
   "metadata": {},
   "outputs": [],
   "source": []
  }
 ],
 "metadata": {
  "kernelspec": {
   "display_name": "Python 3 (ipykernel)",
   "language": "python",
   "name": "python3"
  },
  "language_info": {
   "codemirror_mode": {
    "name": "ipython",
    "version": 3
   },
   "file_extension": ".py",
   "mimetype": "text/x-python",
   "name": "python",
   "nbconvert_exporter": "python",
   "pygments_lexer": "ipython3",
   "version": "3.9.12"
  }
 },
 "nbformat": 4,
 "nbformat_minor": 5
}
