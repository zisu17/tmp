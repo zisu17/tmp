{
 "cells": [
  {
   "cell_type": "code",
   "execution_count": 28,
   "metadata": {},
   "outputs": [],
   "source": [
    "import requests\n",
    "from urllib.parse import urlparse #한글처리\n",
    "import urllib.parse\n",
    "from tqdm import tqdm\n",
    "import time\n",
    "from urllib.request import urlopen\n",
    "from bs4 import BeautifulSoup\n",
    "import requests\n",
    "import pandas as pd\n",
    "import logging\n",
    "import traceback\n",
    "from datetime import datetime\n",
    "import json\n",
    "from hdfs import InsecureClient\n",
    "client = InsecureClient('http://localhost:9870', user='big')"
   ]
  },
  {
   "cell_type": "code",
   "execution_count": null,
   "metadata": {},
   "outputs": [],
   "source": [
    "df = pd.read_csv('파일이름', encoding='utf-8')"
   ]
  },
  {
   "cell_type": "code",
   "execution_count": null,
   "metadata": {},
   "outputs": [],
   "source": [
    "df"
   ]
  },
  {
   "cell_type": "code",
   "execution_count": 45,
   "metadata": {},
   "outputs": [],
   "source": [
    "url = 'https://movie.naver.com/movie/bi/mi/basic.naver?code=19850'"
   ]
  },
  {
   "cell_type": "code",
   "execution_count": 29,
   "metadata": {},
   "outputs": [
    {
     "data": {
      "text/plain": [
       "'공조2: 인터내셔날'"
      ]
     },
     "execution_count": 29,
     "metadata": {},
     "output_type": "execute_result"
    }
   ],
   "source": [
    "# 영화 제목\n",
    "title=soup.findAll(\"h3\",{\"class\":\"h_movie\"})[0].text.split('\\n')[1]\n",
    "title"
   ]
  },
  {
   "cell_type": "code",
   "execution_count": 30,
   "metadata": {},
   "outputs": [
    {
     "data": {
      "text/plain": [
       "'8.03'"
      ]
     },
     "execution_count": 30,
     "metadata": {},
     "output_type": "execute_result"
    }
   ],
   "source": [
    "# 관람객 평점\n",
    "aud_score=soup.findAll(\"span\",{\"class\":\"st_on\"})[0].text.split(\" \")[2].replace('점',\"\")\n",
    "aud_score"
   ]
  },
  {
   "cell_type": "code",
   "execution_count": 31,
   "metadata": {},
   "outputs": [
    {
     "data": {
      "text/plain": [
       "'5.50'"
      ]
     },
     "execution_count": 31,
     "metadata": {},
     "output_type": "execute_result"
    }
   ],
   "source": [
    "# 전문가 평점\n",
    "exp_score=soup.findAll(\"div\",{\"class\":\"spc_score_area\"})[0].text.split(\"\\n\\n\")[2]\n",
    "exp_score"
   ]
  },
  {
   "cell_type": "code",
   "execution_count": 32,
   "metadata": {},
   "outputs": [
    {
     "data": {
      "text/plain": [
       "'8.61'"
      ]
     },
     "execution_count": 32,
     "metadata": {},
     "output_type": "execute_result"
    }
   ],
   "source": [
    "# 네티즌 평점\n",
    "# star_score \n",
    "ntz_score=soup.findAll(\"a\",{\"id\":\"pointNetizenPersentBasic\"})[0].text\n",
    "ntz_score"
   ]
  },
  {
   "cell_type": "markdown",
   "metadata": {},
   "source": [
    "## HDFS 저장"
   ]
  },
  {
   "cell_type": "code",
   "execution_count": 57,
   "metadata": {},
   "outputs": [
    {
     "name": "stderr",
     "output_type": "stream",
     "text": [
      "100%|███████████████████████████████████████████████████████████| 1/1 [00:01<00:00,  1.38s/it]\n"
     ]
    }
   ],
   "source": [
    "std_date=str(datetime.now().date())\n",
    "file_dir = '/movie_data/score/'\n",
    "\n",
    "cols = ['title','audi_sc', 'expe_sc', 'neti_sc', 'std_date']\n",
    "\n",
    "\n",
    "for i in tqdm(range(0,1)):\n",
    "    data=[]\n",
    "    file_name = 'movie_score_' + std_date + '.json'\n",
    "\n",
    "    # 페이지 요청\n",
    "    html = requests.get(url).content\n",
    "    # 파싱객체 생성\n",
    "    soup = BeautifulSoup(html,\"html.parser\")\n",
    "    time.sleep(1)\n",
    "\n",
    "    rows=[]\n",
    "    \n",
    "    try :\n",
    "        title=soup.findAll(\"h3\",{\"class\":\"h_movie\"})[0].text.split('\\n')[1]\n",
    "        rows.append(title)\n",
    "    except Exception as e:\n",
    "        rows.append('없음')\n",
    "        \n",
    "        \n",
    "    try :\n",
    "        audi_sc=soup.findAll(\"span\",{\"class\":\"st_on\"})[0].text.split(\" \")[2].replace('점',\"\")\n",
    "        rows.append(audi_sc)\n",
    "    except Exception as e:\n",
    "        rows.append('없음')\n",
    "        \n",
    "        \n",
    "    try :\n",
    "        expe_sc=soup.findAll(\"div\",{\"class\":\"spc_score_area\"})[0].text.split(\"\\n\\n\")[2]\n",
    "        rows.append(expe_sc)\n",
    "    except Exception as e:\n",
    "        rows.append('없음')\n",
    "    \n",
    "    \n",
    "    try :\n",
    "        neti_sc=soup.findAll(\"a\",{\"id\":\"pointNetizenPersentBasic\"})[0].text\n",
    "        rows.append(neti_sc)\n",
    "    except Exception as e:\n",
    "        rows.append('없음')\n",
    "    \n",
    "    rows.append(date)\n",
    "\n",
    "    tmp = dict(zip(cols, rows))\n",
    "    data.append(tmp)\n",
    "\n",
    "    res = {\n",
    "        'meta':{\n",
    "            'desc':'네이버 영화 평점 현황',\n",
    "            'cols':{\n",
    "                'title':'영화제목'\n",
    "                ,'audi_sc':'관람객평점'\n",
    "                ,'expe_sc':'기자및평론가평점'\n",
    "                ,'neti_sc':'네티즌평점'\n",
    "                ,'std_date':'수집일자'\n",
    "            },\n",
    "            'std_date':'수집일자'\n",
    "        },\n",
    "       'data':data\n",
    "    }\n",
    "\n",
    "    client.write(file_dir+file_name, json.dumps(res, ensure_ascii=False), encoding='utf-8')"
   ]
  },
  {
   "cell_type": "code",
   "execution_count": 58,
   "metadata": {},
   "outputs": [
    {
     "data": {
      "text/plain": [
       "[{'title': '벼락부자',\n",
       "  'audi_sc': '없음',\n",
       "  'expe_sc': '없음',\n",
       "  'neti_sc': '5.67',\n",
       "  'std_date': '2022-09-28'}]"
      ]
     },
     "execution_count": 58,
     "metadata": {},
     "output_type": "execute_result"
    }
   ],
   "source": [
    "data"
   ]
  }
 ],
 "metadata": {
  "kernelspec": {
   "display_name": "Python 3 (ipykernel)",
   "language": "python",
   "name": "python3"
  },
  "language_info": {
   "codemirror_mode": {
    "name": "ipython",
    "version": 3
   },
   "file_extension": ".py",
   "mimetype": "text/x-python",
   "name": "python",
   "nbconvert_exporter": "python",
   "pygments_lexer": "ipython3",
   "version": "3.8.10"
  }
 },
 "nbformat": 4,
 "nbformat_minor": 4
}
