{
 "cells": [
  {
   "cell_type": "code",
   "execution_count": 1,
   "metadata": {},
   "outputs": [],
   "source": [
    "import requests\n",
    "from urllib.parse import urlparse #한글처리\n",
    "import urllib.parse\n",
    "from tqdm import tqdm\n",
    "import time\n",
    "from urllib.request import urlopen\n",
    "from bs4 import BeautifulSoup\n",
    "import requests\n",
    "import pandas as pd\n",
    "import logging\n",
    "import traceback"
   ]
  },
  {
   "cell_type": "code",
   "execution_count": null,
   "metadata": {},
   "outputs": [],
   "source": [
    "df = pd.read_csv('파일이름', encoding='utf-8')"
   ]
  },
  {
   "cell_type": "code",
   "execution_count": null,
   "metadata": {},
   "outputs": [],
   "source": [
    "df"
   ]
  },
  {
   "cell_type": "code",
   "execution_count": 48,
   "metadata": {},
   "outputs": [],
   "source": [
    "url = 'https://movie.naver.com/movie/bi/mi/basic.naver?code=201641'"
   ]
  },
  {
   "cell_type": "code",
   "execution_count": 61,
   "metadata": {},
   "outputs": [
    {
     "data": {
      "text/plain": [
       "'8.03'"
      ]
     },
     "execution_count": 61,
     "metadata": {},
     "output_type": "execute_result"
    }
   ],
   "source": [
    "# 관람객 평점\n",
    "aud_score=soup.findAll(\"span\",{\"class\":\"st_on\"})[0].text.split(\" \")[2].replace('점',\"\")\n",
    "aud_score"
   ]
  },
  {
   "cell_type": "code",
   "execution_count": null,
   "metadata": {},
   "outputs": [],
   "source": [
    "aud_score=[]\n",
    "for i in tqdm(range(0,100)):\n",
    "    try :\n",
    "        # 페이지 요청\n",
    "        html = requests.get(url).content\n",
    "        # 파싱객체 생성\n",
    "        soup = BeautifulSoup(html,\"html.parser\")\n",
    "        time.sleep(1)\n",
    "        aud=soup.findAll(\"span\",{\"class\":\"st_on\"})[0].text.split(\" \")[2].replace('점',\"\")\n",
    "        aud_score.append(aud)\n",
    "    except Exception as e:        \n",
    "        logging.error(traceback.format_exc())\n",
    "        score.append('-')"
   ]
  },
  {
   "cell_type": "code",
   "execution_count": 50,
   "metadata": {},
   "outputs": [
    {
     "data": {
      "text/plain": [
       "'5.50'"
      ]
     },
     "execution_count": 50,
     "metadata": {},
     "output_type": "execute_result"
    }
   ],
   "source": [
    "# 전문가 평점\n",
    "exp_score=soup.findAll(\"div\",{\"class\":\"spc_score_area\"})[0].text.split(\"\\n\\n\")[2]\n",
    "exp_score"
   ]
  },
  {
   "cell_type": "code",
   "execution_count": null,
   "metadata": {},
   "outputs": [],
   "source": [
    "spc_score=[]\n",
    "for i in tqdm(range(0,100)):\n",
    "    try :\n",
    "        # 페이지 요청\n",
    "        html = requests.get(url).content\n",
    "        # 파싱객체 생성\n",
    "        soup = BeautifulSoup(html,\"html.parser\")\n",
    "        time.sleep(1)\n",
    "        spc=soup.findAll(\"div\",{\"class\":\"spc_score_area\"})[0].text.split(\"\\n\\n\")[2]\n",
    "        spc_score.append(spc)\n",
    "    except Exception as e:        \n",
    "        logging.error(traceback.format_exc())\n",
    "        score.append('-')"
   ]
  },
  {
   "cell_type": "code",
   "execution_count": 59,
   "metadata": {},
   "outputs": [
    {
     "data": {
      "text/plain": [
       "'8.62'"
      ]
     },
     "execution_count": 59,
     "metadata": {},
     "output_type": "execute_result"
    }
   ],
   "source": [
    "# 네티즌 평점\n",
    "# star_score \n",
    "ntz_score=soup.findAll(\"a\",{\"id\":\"pointNetizenPersentBasic\"})[0].text\n",
    "ntz_score"
   ]
  },
  {
   "cell_type": "code",
   "execution_count": null,
   "metadata": {},
   "outputs": [],
   "source": [
    "ntz_score=[]\n",
    "for i in tqdm(range(0,100)):\n",
    "    try :\n",
    "        # 페이지 요청\n",
    "        html = requests.get(url).content\n",
    "        # 파싱객체 생성\n",
    "        soup = BeautifulSoup(html,\"html.parser\")\n",
    "        time.sleep(1)\n",
    "        ntz=soup.findAll(\"a\",{\"id\":\"pointNetizenPersentBasic\"})[0].text\n",
    "        ntz_score.append(ntz)\n",
    "    except Exception as e:        \n",
    "        logging.error(traceback.format_exc())\n",
    "        score.append('-')"
   ]
  },
  {
   "cell_type": "markdown",
   "metadata": {},
   "source": [
    "HDFS 저장"
   ]
  },
  {
   "cell_type": "code",
   "execution_count": null,
   "metadata": {},
   "outputs": [],
   "source": [
    "file_dir = '/movie_data/score/'\n",
    "file_name = 'movie_score_' + cal_std_day(1) + '.json'\n",
    "\n",
    "url = 'https://ncv.kdca.go.kr/mainStatus.es?mid=a11702000000'\n",
    "response_txt = execute_rest_api('get',url,{},{})\n",
    "soup = BeautifulSoup(response_txt, 'html.parser')\n",
    "trs = soup.select('#content > div.data_table.tbl_scrl_t > table > tbody > tr')\n",
    "\n",
    "cols = ['loc', 'v1', 'v2', 'v3', 'v4']\n",
    "data = []\n",
    "\n",
    "for idx, tr in enumerate(trs):\n",
    "    if idx == 0:\n",
    "        continue\n",
    "    th = tr.select('th')\n",
    "    tds = tr.select('td')\n",
    "    \n",
    "    rows = []\n",
    "    rows.append(th[0].text.replace(' ', '').replace('\\r\\n', ''))\n",
    "    \n",
    "    for idx, td in enumerate(tds):\n",
    "        if idx % 2 == 0:\n",
    "            continue            \n",
    "        rows.append(td.text.replace(' ', '').replace('\\r\\n', '').replace(',' , ''))\n",
    "    \n",
    "    tmp = dict(zip(cols, rows))\n",
    "    data.append(tmp)\n",
    "\n",
    "res = {\n",
    "    'meta':{\n",
    "        'desc':'지역별 코로나 예방접종 인구 현황',\n",
    "        'cols':{\n",
    "            'loc':'지역'\n",
    "            ,'v1':'1차접종자수'\n",
    "            ,'v2':'2차접종자수'\n",
    "            ,'v3':'3차접종자수'\n",
    "            ,'v4':'4차접종자수'\n",
    "        },\n",
    "        'std_day':cal_std_day(1)\n",
    "    },\n",
    "   'data':data\n",
    "}\n",
    "\n",
    "client.write(file_dir+file_name, json.dumps(res, ensure_ascii=False), encoding='utf-8')"
   ]
  }
 ],
 "metadata": {
  "kernelspec": {
   "display_name": "Python 3 (ipykernel)",
   "language": "python",
   "name": "python3"
  },
  "language_info": {
   "codemirror_mode": {
    "name": "ipython",
    "version": 3
   },
   "file_extension": ".py",
   "mimetype": "text/x-python",
   "name": "python",
   "nbconvert_exporter": "python",
   "pygments_lexer": "ipython3",
   "version": "3.8.10"
  }
 },
 "nbformat": 4,
 "nbformat_minor": 4
}
